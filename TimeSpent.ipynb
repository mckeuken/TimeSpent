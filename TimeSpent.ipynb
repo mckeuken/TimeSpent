{
 "cells": [
  {
   "cell_type": "markdown",
   "metadata": {},
   "source": [
    "### Project name: TimeSpent\n",
    "### Author: MCKitchen\n",
    "\n",
    "### Goal: Keeping track of the time that I've spent in a given country\n"
   ]
  },
  {
   "cell_type": "code",
   "execution_count": 2,
   "metadata": {},
   "outputs": [
    {
     "name": "stderr",
     "output_type": "stream",
     "text": [
      "/anaconda3/lib/python3.7/site-packages/pandas/core/indexing.py:189: SettingWithCopyWarning: \n",
      "A value is trying to be set on a copy of a slice from a DataFrame\n",
      "\n",
      "See the caveats in the documentation: http://pandas.pydata.org/pandas-docs/stable/indexing.html#indexing-view-versus-copy\n",
      "  self._setitem_with_indexer(indexer, value)\n",
      "/anaconda3/lib/python3.7/site-packages/ipykernel_launcher.py:24: RuntimeWarning: divide by zero encountered in log10\n"
     ]
    }
   ],
   "source": [
    "# Importing a number of modules:\n",
    "import pandas as pd\n",
    "import numpy as np\n",
    "import os\n",
    "import folium\n",
    "import datetime\n",
    "# Loading in the data where the number of days is based on memory and recent trips:\n",
    "country_count = pd.read_csv('DataJuly2019.csv', delimiter = ';', header = 0 )\n",
    "\n",
    "# How many days abroad:\n",
    "daysabroad = country_count.Days[country_count.COUNTRY !='Netherlands'].sum()\n",
    "\n",
    "# How many days in the netherlands \n",
    "today = datetime.date.today()\n",
    "dob = datetime.date(1985, 4, 14)\n",
    "diff = today - dob\n",
    "# Update the field \n",
    "country_count.Days.loc[(country_count.COUNTRY == 'Netherlands')] = (diff.days - daysabroad)\n",
    "\n",
    "# Given the fact that I've lived in the Netherlands and India for quite sometime, all other \n",
    "# countries literally pale in comparison. So to have some nice color grading I'm going to take the \n",
    "# log10 of the days that I spend in a givne country:\n",
    "country_count_log10 = country_count\n",
    "country_count_log10['Days'] = np.where(country_count_log10['Days'] > 0, np.log10(country_count_log10['Days']), float('nan'))\n",
    "\n",
    "# Finally I need the polygoons of all the different countries. At first I used the following file \"countries.geojson\"\n",
    "# from https://github.com/datasets/geo-countries. The problem that I had with this file was that the main land of france\n",
    "# was combined with the same polygoon as French Guinnea. While legally perhaps true I find it a bit weird that I would\n",
    "# use it to plot the countries that I visited I would also plot a country in South America when I visited France.\n",
    "# Therefore I had to manually tweak the geojson file in http://geojson.io/ where I basically redrew france and French\n",
    "# Guinnea separately: \n",
    "country_geo = os.path.join('Country_map.geojson')\n",
    "\n",
    "# Now that we have all the required data lets start with a background worldmap which is part of the Folium\n",
    "# module:\n",
    "world_map = folium.Map(location=[10, 0], zoom_start=1.6, tiles= 'cartodbpositron')\n",
    "\n",
    "# Lets now add an extra layer where the fill color is based on the log10(days spent in that country)\n",
    "folium.Choropleth(\n",
    "    geo_data = country_geo,\n",
    "    name ='world_map',\n",
    "    data = country_count_log10,\n",
    "    columns = ['COUNTRY', 'Days'],\n",
    "    key_on = 'feature.properties.ADMIN',\n",
    "    fill_color = 'GnBu',\n",
    "    nan_fill_color = 'white',\n",
    "    fill_opacity = 0.7,\n",
    "    line_opacity = 0.2,\n",
    "    legend_name = 'log10(Number of days spent) | White is not visited yet',\n",
    "    text_color = 'white'\n",
    ").add_to(world_map)\n",
    "\n",
    "# Add a missing value color code \n",
    "# Lets plot it:\n",
    "world_map.save('TravelMapMCKitchen.html')"
   ]
  },
  {
   "cell_type": "code",
   "execution_count": null,
   "metadata": {},
   "outputs": [],
   "source": []
  },
  {
   "cell_type": "code",
   "execution_count": null,
   "metadata": {},
   "outputs": [],
   "source": []
  }
 ],
 "metadata": {
  "kernelspec": {
   "display_name": "Python 3",
   "language": "python",
   "name": "python3"
  },
  "language_info": {
   "codemirror_mode": {
    "name": "ipython",
    "version": 3
   },
   "file_extension": ".py",
   "mimetype": "text/x-python",
   "name": "python",
   "nbconvert_exporter": "python",
   "pygments_lexer": "ipython3",
   "version": "3.7.0"
  }
 },
 "nbformat": 4,
 "nbformat_minor": 2
}
